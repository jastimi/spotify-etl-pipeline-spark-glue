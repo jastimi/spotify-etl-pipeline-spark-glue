{
	"metadata": {
		"kernelspec": {
			"name": "glue_pyspark",
			"display_name": "Glue PySpark",
			"language": "python"
		},
		"language_info": {
			"name": "Python_Glue_Session",
			"mimetype": "text/x-python",
			"codemirror_mode": {
				"name": "python",
				"version": 3
			},
			"pygments_lexer": "python3",
			"file_extension": ".py"
		}
	},
	"nbformat_minor": 4,
	"nbformat": 4,
	"cells": [
		{
			"cell_type": "markdown",
			"source": "# AWS Glue Studio Notebook\n##### You are now running a AWS Glue Studio notebook; To start using your notebook you need to start an AWS Glue Interactive Session.\n",
			"metadata": {
				"editable": true,
				"trusted": true
			}
		},
		{
			"cell_type": "markdown",
			"source": "#### Optional: Run this cell to see available notebook commands (\"magics\").\n",
			"metadata": {
				"editable": true,
				"trusted": true
			}
		},
		{
			"cell_type": "markdown",
			"source": "####  Run this cell to set up and start your interactive session.\n",
			"metadata": {
				"editable": true,
				"trusted": true
			}
		},
		{
			"cell_type": "code",
			"source": "%idle_timeout 2880\n%glue_version 5.0\n%worker_type G.1X\n%number_of_workers 5\n\nimport sys\nfrom awsglue.transforms import *\nfrom awsglue.utils import getResolvedOptions\nfrom pyspark.context import SparkContext\nfrom awsglue.context import GlueContext\nfrom awsglue.job import Job\n  \nsc = SparkContext.getOrCreate()\nglueContext = GlueContext(sc)\nspark = glueContext.spark_session\njob = Job(glueContext)",
			"metadata": {
				"trusted": true,
				"editable": true
			},
			"execution_count": 1,
			"outputs": [
				{
					"name": "stdout",
					"text": "Welcome to the Glue Interactive Sessions Kernel\nFor more information on available magic commands, please type %help in any new cell.\n\nPlease view our Getting Started page to access the most up-to-date information on the Interactive Sessions kernel: https://docs.aws.amazon.com/glue/latest/dg/interactive-sessions.html\nInstalled kernel version: 1.0.8 \nCurrent idle_timeout is None minutes.\nidle_timeout has been set to 2880 minutes.\nSetting Glue version to: 5.0\nPrevious worker type: None\nSetting new worker type to: G.1X\nPrevious number of workers: None\nSetting new number of workers to: 5\nTrying to create a Glue session for the kernel.\nSession Type: glueetl\nWorker Type: G.1X\nNumber of Workers: 5\nIdle Timeout: 2880\nSession ID: 26008ef0-6ac8-4760-a89d-7159f111b655\nApplying the following default arguments:\n--glue_kernel_version 1.0.8\n--enable-glue-datacatalog true\nWaiting for session 26008ef0-6ac8-4760-a89d-7159f111b655 to get into ready status...\nSession 26008ef0-6ac8-4760-a89d-7159f111b655 has been created.\n\n",
					"output_type": "stream"
				}
			]
		},
		{
			"cell_type": "code",
			"source": "from pyspark.sql.functions import explode, col, to_date\nfrom datetime import datetime\n\nfrom awsglue.dynamicframe import DynamicFrame",
			"metadata": {
				"trusted": true,
				"tags": []
			},
			"execution_count": 79,
			"outputs": [
				{
					"name": "stdout",
					"text": "\n",
					"output_type": "stream"
				}
			]
		},
		{
			"cell_type": "code",
			"source": "path = \"s3://spotify-etl-project-mohan/raw_data/to_processed/\"\nsource_dyf = glueContext.create_dynamic_frame_from_options(\n    connection_type=\"s3\",\n    connection_options={\"paths\": [path]},\n    format=\"json\"\n)\ndyf.printSchema()",
			"metadata": {
				"trusted": true,
				"editable": true
			},
			"execution_count": 4,
			"outputs": [
				{
					"name": "stdout",
					"text": "root\n|-- href: string\n|-- items: array\n|    |-- element: struct\n|    |    |-- added_at: string\n|    |    |-- added_by: struct\n|    |    |    |-- external_urls: struct\n|    |    |    |    |-- spotify: string\n|    |    |    |-- href: string\n|    |    |    |-- id: string\n|    |    |    |-- type: string\n|    |    |    |-- uri: string\n|    |    |-- is_local: boolean\n|    |    |-- primary_color: null\n|    |    |-- track: struct\n|    |    |    |-- preview_url: null\n|    |    |    |-- available_markets: array\n|    |    |    |    |-- element: string\n|    |    |    |-- explicit: boolean\n|    |    |    |-- type: string\n|    |    |    |-- episode: boolean\n|    |    |    |-- track: boolean\n|    |    |    |-- album: struct\n|    |    |    |    |-- available_markets: array\n|    |    |    |    |    |-- element: string\n|    |    |    |    |-- type: string\n|    |    |    |    |-- album_type: string\n|    |    |    |    |-- href: string\n|    |    |    |    |-- id: string\n|    |    |    |    |-- images: array\n|    |    |    |    |    |-- element: struct\n|    |    |    |    |    |    |-- height: int\n|    |    |    |    |    |    |-- url: string\n|    |    |    |    |    |    |-- width: int\n|    |    |    |    |-- name: string\n|    |    |    |    |-- release_date: string\n|    |    |    |    |-- release_date_precision: string\n|    |    |    |    |-- uri: string\n|    |    |    |    |-- artists: array\n|    |    |    |    |    |-- element: struct\n|    |    |    |    |    |    |-- external_urls: struct\n|    |    |    |    |    |    |    |-- spotify: string\n|    |    |    |    |    |    |-- href: string\n|    |    |    |    |    |    |-- id: string\n|    |    |    |    |    |    |-- name: string\n|    |    |    |    |    |    |-- type: string\n|    |    |    |    |    |    |-- uri: string\n|    |    |    |    |-- external_urls: struct\n|    |    |    |    |    |-- spotify: string\n|    |    |    |    |-- total_tracks: int\n|    |    |    |-- artists: array\n|    |    |    |    |-- element: struct\n|    |    |    |    |    |-- external_urls: struct\n|    |    |    |    |    |    |-- spotify: string\n|    |    |    |    |    |-- href: string\n|    |    |    |    |    |-- id: string\n|    |    |    |    |    |-- name: string\n|    |    |    |    |    |-- type: string\n|    |    |    |    |    |-- uri: string\n|    |    |    |-- disc_number: int\n|    |    |    |-- track_number: int\n|    |    |    |-- duration_ms: int\n|    |    |    |-- external_ids: struct\n|    |    |    |    |-- isrc: string\n|    |    |    |-- external_urls: struct\n|    |    |    |    |-- spotify: string\n|    |    |    |-- href: string\n|    |    |    |-- id: string\n|    |    |    |-- name: string\n|    |    |    |-- popularity: int\n|    |    |    |-- uri: string\n|    |    |    |-- is_local: boolean\n|    |    |-- video_thumbnail: struct\n|    |    |    |-- url: null\n|-- limit: int\n|-- next: null\n|-- offset: int\n|-- previous: null\n|-- total: int\n",
					"output_type": "stream"
				}
			]
		},
		{
			"cell_type": "code",
			"source": "spotify_df = source_dyf.toDF()\nspotify_df.show()",
			"metadata": {
				"trusted": true,
				"editable": true
			},
			"execution_count": 38,
			"outputs": [
				{
					"name": "stdout",
					"text": "+--------------------+--------------------+-----+----+------+--------+-----+\n|                href|               items|limit|next|offset|previous|total|\n+--------------------+--------------------+-----+----+------+--------+-----+\n|https://api.spoti...|[{2025-03-07T07:4...|  100|NULL|     0|    NULL|   75|\n+--------------------+--------------------+-----+----+------+--------+-----+\n",
					"output_type": "stream"
				}
			]
		},
		{
			"cell_type": "code",
			"source": "def process_albums(df):\n    album_df = df.withColumn(\"items\", explode(\"items\")).select(\n    col(\"items.track.album.id\").alias(\"album_id\"),\n    col(\"items.track.album.name\").alias(\"album_name\"),\n    col(\"items.track.album.release_date\").alias(\"release_date\"),\n    col(\"items.track.album.total_tracks\").alias(\"total_tracks\"),\n    col(\"items.track.album.external_urls.spotify\").alias(\"url\")\n    ).drop_duplicates(['album_id'])\n\n    album_df.withColumn(\"release_date\", to_date(\"release_date\", \"yyyy-MM-dd\"))\n    \n    return album_df\n\n\ndef process_artists(df):\n    artist_df = df.withColumn(\"items\", explode(\"items\"))\n    artist_df = artist_df.withColumn(\"artists\", explode(\"items.track.artists\")).select(\n    col(\"artists.id\").alias(\"artist_id\"),\n    col(\"artists.name\").alias(\"artist_name\"),\n    col(\"artists.href\").alias(\"external_url\")\n    ).drop_duplicates([\"artist_id\"])\n    \n    return artist_df\n\n\ndef process_songs(df):\n    song_df = df.withColumn(\"item\", explode(\"items\")).select(\n    col(\"item.track.id\").alias(\"song_id\"),\n    col(\"item.track.name\").alias(\"song_name\"),\n    col(\"item.track.duration_ms\").alias(\"duration_ms\"),\n    col(\"item.track.external_urls.spotify\").alias(\"url\"),\n    col(\"item.track.popularity\").alias(\"popularity\"),\n    col(\"item.added_at\").alias(\"song_added\"),\n    col(\"item.track.album.id\").alias(\"album_id\"),\n    col(\"item.track.album.artists\")[0][\"id\"].alias(\"artist_id\")\n    ).drop_duplicates([\"song_id\"])\n\n    spark.sql(\"set spark.sql.legacy.timeParserPolicy=LEGACY\")\n\n    song_df.withColumn(\"song_added\", to_date(\"song_added\", \"yyyy-MM-dd\"))\n    \n    return song_df",
			"metadata": {
				"trusted": true,
				"tags": []
			},
			"execution_count": 87,
			"outputs": [
				{
					"name": "stdout",
					"text": "\n",
					"output_type": "stream"
				}
			]
		},
		{
			"cell_type": "code",
			"source": "album_df = process_albums(spotify_df)\nartist_df = process_artists(spotify_df)\nsong_df = process_songs(spotify_df)",
			"metadata": {
				"trusted": true,
				"tags": []
			},
			"execution_count": 88,
			"outputs": [
				{
					"name": "stdout",
					"text": "\n",
					"output_type": "stream"
				}
			]
		},
		{
			"cell_type": "code",
			"source": "def write_to_s3(df, path_suffix, format_type=\"csv\"):\n    dynamic_frame = DynamicFrame.fromDF(df, glueContext, \"dynamic_frame\")\n    \n    glueContext.write_dynamic_frame.from_options(\n        frame=dynamic_frame,\n        connection_type=\"s3\",\n        connection_options={\"path\": f\"s3://spotify-etl-project-mohan/transformed_data/{path_suffix}/\"},\n        format=format_type\n    )",
			"metadata": {
				"trusted": true,
				"tags": []
			},
			"execution_count": 75,
			"outputs": [
				{
					"name": "stdout",
					"text": "\n",
					"output_type": "stream"
				}
			]
		},
		{
			"cell_type": "code",
			"source": "write_to_s3(album_df, f\"album_data/album_transformed_{datetime.now().strftime('%Y%m%d')}\", \"csv\")",
			"metadata": {
				"trusted": true,
				"tags": []
			},
			"execution_count": 80,
			"outputs": [
				{
					"name": "stdout",
					"text": "\n",
					"output_type": "stream"
				}
			]
		},
		{
			"cell_type": "code",
			"source": "write_to_s3(artist_df, f\"artist_data/artist_transformed_{datetime.now().strftime('%Y%m%d')}\", \"csv\")",
			"metadata": {
				"trusted": true,
				"tags": []
			},
			"execution_count": 81,
			"outputs": [
				{
					"name": "stdout",
					"text": "\n",
					"output_type": "stream"
				}
			]
		},
		{
			"cell_type": "code",
			"source": "write_to_s3(song_df, f\"songs_data/songs_transformed_{datetime.now().strftime('%Y%m%d')}\", \"csv\")",
			"metadata": {
				"trusted": true,
				"tags": []
			},
			"execution_count": 89,
			"outputs": [
				{
					"name": "stdout",
					"text": "\n",
					"output_type": "stream"
				}
			]
		},
		{
			"cell_type": "code",
			"source": "",
			"metadata": {},
			"execution_count": null,
			"outputs": []
		}
	]
}